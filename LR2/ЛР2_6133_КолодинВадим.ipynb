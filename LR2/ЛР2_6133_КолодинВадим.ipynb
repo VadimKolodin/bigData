{
 "cells": [
  {
   "cell_type": "code",
   "execution_count": 24,
   "id": "90f17657-eed1-4116-9250-f3124feccbf6",
   "metadata": {},
   "outputs": [],
   "source": [
    "from pyspark import SparkContext, SparkConf \n",
    "from pyspark.sql import SparkSession\n",
    "import pyspark.sql as sql\n",
    "from pyspark.sql.functions import col\n",
    "from datetime import datetime\n",
    "from typing import NamedTuple\n",
    "import pyspark.sql.functions as f\n",
    "import os"
   ]
  },
  {
   "cell_type": "code",
   "execution_count": 2,
   "id": "5a989833-17a7-4a75-89bd-b4b5af4bde3f",
   "metadata": {},
   "outputs": [],
   "source": [
    "os.environ['PYSPARK_SUBMIT_ARGS'] = '--packages com.databricks:spark-xml_2.12:0.13.0 pyspark-shell'\n",
    "conf = SparkConf().setAppName(\"Lab2\").setMaster('yarn')\n",
    "sc = SparkContext(conf=conf)\n",
    "spark = SparkSession(sc)"
   ]
  },
  {
   "cell_type": "code",
   "execution_count": 3,
   "id": "264b0898-1b37-4d30-8e61-bc41b85d9c72",
   "metadata": {},
   "outputs": [],
   "source": [
    "languages_data = spark.read.csv(\"programming-languages.csv\")"
   ]
  },
  {
   "cell_type": "code",
   "execution_count": 4,
   "id": "94aa53cd-8b22-4702-9cd3-f658d6005799",
   "metadata": {},
   "outputs": [
    {
     "data": {
      "text/plain": [
       "['a-0', 'a+', 'a++', 'abap', 'abc', 'abset', 'absys', 'acc', 'accent']"
      ]
     },
     "execution_count": 4,
     "metadata": {},
     "output_type": "execute_result"
    }
   ],
   "source": [
    "languages = languages_data.rdd.map(lambda x: x[0]) \\\n",
    "                  .map(lambda x: x.lower()) \\\n",
    "                  .map(lambda x: x.split(' ')[0]) \\\n",
    "                  .distinct() \\\n",
    "                  .collect()[1:]\n",
    "languages[1:10]"
   ]
  },
  {
   "cell_type": "code",
   "execution_count": 5,
   "id": "9d9b2dab-d9fc-4465-b93b-d3f0119bdb7a",
   "metadata": {},
   "outputs": [
    {
     "data": {
      "text/plain": [
       "DataFrame[_AcceptedAnswerId: bigint, _AnswerCount: bigint, _Body: string, _ClosedDate: timestamp, _CommentCount: bigint, _CommunityOwnedDate: timestamp, _CreationDate: timestamp, _FavoriteCount: bigint, _Id: bigint, _LastActivityDate: timestamp, _LastEditDate: timestamp, _LastEditorDisplayName: string, _LastEditorUserId: bigint, _OwnerDisplayName: string, _OwnerUserId: bigint, _ParentId: bigint, _PostTypeId: bigint, _Score: bigint, _Tags: string, _Title: string, _ViewCount: bigint, _corrupt_record: string]"
      ]
     },
     "execution_count": 5,
     "metadata": {},
     "output_type": "execute_result"
    }
   ],
   "source": [
    "\n",
    "\n",
    "posts_data =  spark.read.format(\"xml\") \\\n",
    "                        .option(\"rootTag\", \"posts\") \\\n",
    "                        .option(\"rowTag\", \"row\") \\\n",
    "                        .load(\"posts_sample.xml\")\n",
    "posts_data"
   ]
  },
  {
   "cell_type": "code",
   "execution_count": 16,
   "id": "03780ef1-f086-4b95-94c2-89a56800ae72",
   "metadata": {},
   "outputs": [],
   "source": [
    "\n",
    "def initPost(posts):\n",
    "    class Post(NamedTuple):\n",
    "        view_count: float\n",
    "        language_id: int\n",
    "        year: int\n",
    "        \n",
    "    for post in posts:\n",
    "        try:\n",
    "            yield Post(\n",
    "                view_count = float(post._ViewCount), \n",
    "                language_id = languages.index(post._Tags[(post._Tags.find('<')+1) : post._Tags.find('>')]),\n",
    "                year = post._CreationDate.year\n",
    "            )\n",
    "        except:\n",
    "            pass"
   ]
  },
  {
   "cell_type": "code",
   "execution_count": 19,
   "id": "3f6b588f-bbd6-43db-9bd1-cc3e4789727d",
   "metadata": {},
   "outputs": [
    {
     "data": {
      "text/plain": [
       "[2008, 2009, 2010, 2011, 2012, 2013, 2014, 2015, 2016, 2017, 2018, 2019]"
      ]
     },
     "execution_count": 19,
     "metadata": {},
     "output_type": "execute_result"
    }
   ],
   "source": [
    "all_years = posts_data.rdd \\\n",
    "      .filter(lambda x: x._Tags is not None) \\\n",
    "      .map(lambda post: post._CreationDate.year) \\\n",
    "      .distinct() \\\n",
    "      .sortBy(lambda x: x, ascending=True) \\\n",
    "      .collect() \n",
    "all_years"
   ]
  },
  {
   "cell_type": "code",
   "execution_count": 34,
   "id": "53fdd619-2462-439f-978d-7fac071f3c85",
   "metadata": {},
   "outputs": [],
   "source": [
    "\n",
    "top_by_year = {}\n",
    "for year in all_years:\n",
    "    top_by_year[year] = posts_data.rdd \\\n",
    "              .filter(lambda x: x._Tags is not None) \\\n",
    "              .mapPartitions(initPost) \\\n",
    "              .filter(lambda x: x.year == year) \\\n",
    "              .map(lambda x: (x.language_id, x.view_count)) \\\n",
    "              .reduceByKey(lambda x, y: x + y) \\\n",
    "              .map(lambda x: (languages[x[0]], int(x[1]))) \\\n",
    "              .sortBy(lambda x: x[1], ascending=False) \\\n",
    "              .toDF() \\\n",
    "              .select(col(\"_1\").alias(\"Language\"), col(\"_2\").alias(f\"Views\")) \\\n",
    "              .limit(10)"
   ]
  },
  {
   "cell_type": "code",
   "execution_count": 36,
   "id": "cc56c1b5-d33f-40e6-8437-868a7829c92a",
   "metadata": {},
   "outputs": [
    {
     "name": "stdout",
     "output_type": "stream",
     "text": [
      "TOP 2008\n",
      "+--------+------+\n",
      "|Language| Views|\n",
      "+--------+------+\n",
      "|      c#|790973|\n",
      "+--------+------+\n",
      "\n",
      "TOP 2009\n",
      "+--------+------+\n",
      "|Language| Views|\n",
      "+--------+------+\n",
      "|      c#|406966|\n",
      "|  python|141564|\n",
      "|     c++| 84914|\n",
      "|    java| 67051|\n",
      "|     php| 53449|\n",
      "| windows|  9222|\n",
      "|      f#|  5107|\n",
      "| haskell|  4745|\n",
      "|       c|  2467|\n",
      "|  delphi|  2128|\n",
      "+--------+------+\n",
      "\n",
      "TOP 2010\n",
      "+-----------+-------+\n",
      "|   Language|  Views|\n",
      "+-----------+-------+\n",
      "|        php|1179230|\n",
      "|       java| 506358|\n",
      "| javascript| 234900|\n",
      "|         c#| 213021|\n",
      "|objective-c|  62563|\n",
      "|          c|  55089|\n",
      "|        c++|  50411|\n",
      "|     python|  45184|\n",
      "|       ruby|  16928|\n",
      "|    windows|  15152|\n",
      "+-----------+-------+\n",
      "\n",
      "TOP 2011\n",
      "+-----------+------+\n",
      "|   Language| Views|\n",
      "+-----------+------+\n",
      "| javascript|587109|\n",
      "|         c#|260339|\n",
      "|       java|155049|\n",
      "|     python|117481|\n",
      "|        c++| 99426|\n",
      "|          c| 61929|\n",
      "|        php| 53623|\n",
      "|objective-c| 23602|\n",
      "|       bash| 16091|\n",
      "|          r| 12764|\n",
      "+-----------+------+\n",
      "\n",
      "TOP 2012\n",
      "+----------+------+\n",
      "|  Language| Views|\n",
      "+----------+------+\n",
      "|javascript|319231|\n",
      "|      java|303633|\n",
      "|       php|234526|\n",
      "|        c#|210126|\n",
      "|    python|142418|\n",
      "|      ruby| 93065|\n",
      "|   windows| 77127|\n",
      "|       c++| 73222|\n",
      "|         c| 39669|\n",
      "|     scala| 18612|\n",
      "+----------+------+\n",
      "\n",
      "TOP 2013\n",
      "+----------+------+\n",
      "|  Language| Views|\n",
      "+----------+------+\n",
      "|      java|475469|\n",
      "|javascript|393920|\n",
      "|       php|356132|\n",
      "|        c#|300721|\n",
      "|       c++| 92854|\n",
      "|    python| 77582|\n",
      "|      chef| 62291|\n",
      "|     scala| 19084|\n",
      "|      ruby| 18327|\n",
      "|      perl| 17877|\n",
      "+----------+------+\n",
      "\n",
      "TOP 2014\n",
      "+----------+------+\n",
      "|  Language| Views|\n",
      "+----------+------+\n",
      "|javascript|374221|\n",
      "|      java|337720|\n",
      "|        c#|148887|\n",
      "|       php|140581|\n",
      "|    python| 74622|\n",
      "|       c++| 63118|\n",
      "|         c| 54556|\n",
      "|         r| 23406|\n",
      "|    delphi| 21751|\n",
      "|     swift| 15241|\n",
      "+----------+------+\n",
      "\n",
      "TOP 2015\n",
      "+----------+------+\n",
      "|  Language| Views|\n",
      "+----------+------+\n",
      "|      java|140579|\n",
      "|javascript|104618|\n",
      "|        c#| 72742|\n",
      "|    python| 70977|\n",
      "|       php| 42369|\n",
      "|         r| 20237|\n",
      "|       c++| 20192|\n",
      "|     scala| 10959|\n",
      "|         c|  8539|\n",
      "|     swift|  3444|\n",
      "+----------+------+\n",
      "\n",
      "TOP 2016\n",
      "+----------+------+\n",
      "|  Language| Views|\n",
      "+----------+------+\n",
      "|      java|132357|\n",
      "|        c#|120535|\n",
      "|    python| 93943|\n",
      "|       php| 76001|\n",
      "|javascript| 67390|\n",
      "|       c++| 33385|\n",
      "|powershell| 26415|\n",
      "|         c| 13977|\n",
      "|         r| 13166|\n",
      "|     swift|  8402|\n",
      "+----------+------+\n",
      "\n",
      "TOP 2017\n",
      "+----------+------+\n",
      "|  Language| Views|\n",
      "+----------+------+\n",
      "|      java|110852|\n",
      "|javascript| 95062|\n",
      "|    python| 65776|\n",
      "|       c++| 33693|\n",
      "|        c#| 32300|\n",
      "|       php| 30484|\n",
      "|         r|  8570|\n",
      "|    delphi|  4472|\n",
      "|         c|  3907|\n",
      "|      rust|  3788|\n",
      "+----------+------+\n",
      "\n",
      "TOP 2018\n",
      "+----------+-----+\n",
      "|  Language|Views|\n",
      "+----------+-----+\n",
      "|javascript|40330|\n",
      "|    python|38894|\n",
      "|      java|20329|\n",
      "|        c#|19192|\n",
      "|       php|14661|\n",
      "|powershell| 5602|\n",
      "|         r| 3921|\n",
      "|      dart| 3821|\n",
      "|    object| 3036|\n",
      "|       c++| 2147|\n",
      "+----------+-----+\n",
      "\n",
      "TOP 2019\n",
      "+----------+-----+\n",
      "|  Language|Views|\n",
      "+----------+-----+\n",
      "|javascript|10165|\n",
      "|    python| 9788|\n",
      "|        c#| 4985|\n",
      "|      java| 3064|\n",
      "|       php| 2089|\n",
      "|      dart| 1545|\n",
      "|       c++| 1024|\n",
      "|         r|  864|\n",
      "|         c|  777|\n",
      "|        go|  431|\n",
      "+----------+-----+\n",
      "\n"
     ]
    }
   ],
   "source": [
    "for year in all_years:\n",
    "    print(f'TOP {year}')\n",
    "    top_by_year[year].show()\n",
    "    top_by_year[year].write.format(\"parquet\").save(f\"top_10_programming_languages_{year}\")"
   ]
  },
  {
   "cell_type": "code",
   "execution_count": null,
   "id": "19ee344f-eae1-476b-87ad-b035803d413c",
   "metadata": {},
   "outputs": [],
   "source": []
  }
 ],
 "metadata": {
  "kernelspec": {
   "display_name": "Python 3",
   "language": "python",
   "name": "python3"
  },
  "language_info": {
   "codemirror_mode": {
    "name": "ipython",
    "version": 3
   },
   "file_extension": ".py",
   "mimetype": "text/x-python",
   "name": "python",
   "nbconvert_exporter": "python",
   "pygments_lexer": "ipython3",
   "version": "3.9.5"
  }
 },
 "nbformat": 4,
 "nbformat_minor": 5
}
